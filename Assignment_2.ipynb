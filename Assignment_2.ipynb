{
  "nbformat": 4,
  "nbformat_minor": 0,
  "metadata": {
    "colab": {
      "name": "Assignment 2.ipynb",
      "provenance": []
    },
    "kernelspec": {
      "name": "python3",
      "display_name": "Python 3"
    }
  },
  "cells": [
    {
      "cell_type": "markdown",
      "metadata": {
        "id": "E99XNumCZoCk",
        "colab_type": "text"
      },
      "source": [
        "# Task 1:\n",
        "### 1.1 Write a Python Program to implement your own myreduce() function which works exactly likePython's built-in function reduce()"
      ]
    },
    {
      "cell_type": "code",
      "metadata": {
        "id": "H0W5yIoj18S1",
        "colab_type": "code",
        "colab": {}
      },
      "source": [
        "def myreduce(func , iterable):\n",
        "\n",
        "  result = iterable[0]\n",
        "\n",
        "  for i in iterable[1:]:\n",
        "    result = func(result,i)\n",
        "\n",
        "  return result  \n",
        "\n"
      ],
      "execution_count": 0,
      "outputs": []
    },
    {
      "cell_type": "code",
      "metadata": {
        "id": "G5gHWic-bUY5",
        "colab_type": "code",
        "colab": {}
      },
      "source": [
        "def mul(a,b):\n",
        "  return a*b"
      ],
      "execution_count": 0,
      "outputs": []
    },
    {
      "cell_type": "code",
      "metadata": {
        "id": "ZUTcA5T8btse",
        "colab_type": "code",
        "outputId": "0a721988-8702-42d6-a7f9-0eb104e49b11",
        "colab": {
          "base_uri": "https://localhost:8080/",
          "height": 34
        }
      },
      "source": [
        "myreduce(mul,[1,2,3,4,5,6,7])"
      ],
      "execution_count": 0,
      "outputs": [
        {
          "output_type": "execute_result",
          "data": {
            "text/plain": [
              "5040"
            ]
          },
          "metadata": {
            "tags": []
          },
          "execution_count": 3
        }
      ]
    },
    {
      "cell_type": "markdown",
      "metadata": {
        "id": "ho1Lq-dvb8Co",
        "colab_type": "text"
      },
      "source": [
        "### 1.2 Write a Python program to implement your own myfilter() function which works exactly likePython's built-in function filter()"
      ]
    },
    {
      "cell_type": "code",
      "metadata": {
        "id": "N9WG_Lg9by2w",
        "colab_type": "code",
        "colab": {}
      },
      "source": [
        "def myfilter(func,iterable):\n",
        "  l=[]\n",
        "  for i in iterable:\n",
        "    if func(i):\n",
        "      l.append(i)\n",
        "\n",
        "  return l\n"
      ],
      "execution_count": 0,
      "outputs": []
    },
    {
      "cell_type": "code",
      "metadata": {
        "id": "qS29k1bXceZT",
        "colab_type": "code",
        "colab": {}
      },
      "source": [
        "def is_even(num):\n",
        "  if num % 2 == 0:\n",
        "    return True\n",
        "  False  "
      ],
      "execution_count": 0,
      "outputs": []
    },
    {
      "cell_type": "code",
      "metadata": {
        "id": "v-G27JMYc2op",
        "colab_type": "code",
        "outputId": "7bb51cf8-b1b6-4a39-bb04-f49913b766d8",
        "colab": {
          "base_uri": "https://localhost:8080/",
          "height": 34
        }
      },
      "source": [
        "myfilter(is_even,[1,2,3,4,5,6,7,8,9,10])"
      ],
      "execution_count": 0,
      "outputs": [
        {
          "output_type": "execute_result",
          "data": {
            "text/plain": [
              "[2, 4, 6, 8, 10]"
            ]
          },
          "metadata": {
            "tags": []
          },
          "execution_count": 7
        }
      ]
    },
    {
      "cell_type": "markdown",
      "metadata": {
        "id": "KlATtKBjdEiT",
        "colab_type": "text"
      },
      "source": [
        "### 2. Implement List comprehensions to produce the following lists.Write List comprehensions to produce the following Lists\n",
        "###['A', 'C', 'A', 'D', 'G', 'I', ’L’, ‘ D’]\n",
        "###['x', 'xx', 'xxx', 'xxxx', 'y', 'yy', 'yyy', 'yyyy', 'z', 'zz', 'zzz', 'zzzz']\n",
        "###['x', 'y', 'z', 'xx', 'yy', 'zz', 'xx', 'yy', 'zz', 'xxxx', 'yyyy', 'zzzz']\n",
        "###[2], [3], [4], [3], [4], [5], [4], [5], [6]]\n",
        "###[[2, 3, 4, 5], [3, 4, 5, 6], [4, 5, 6, 7], [5, 6, 7, 8]]\n",
        "###[(1, 1), (2, 1), (3, 1), (1, 2), (2, 2), (3, 2), (1, 3), (2, 3), (3, 3)]"
      ]
    },
    {
      "cell_type": "code",
      "metadata": {
        "id": "qotfn1w3c9v6",
        "colab_type": "code",
        "colab": {}
      },
      "source": [
        "word='ACADGILD'\n",
        "\n",
        "lst=[i for i in word]"
      ],
      "execution_count": 0,
      "outputs": []
    },
    {
      "cell_type": "code",
      "metadata": {
        "id": "jlI55gBgdwtf",
        "colab_type": "code",
        "outputId": "74259c3a-1b2a-47d5-eb2b-5b670a4ed538",
        "colab": {
          "base_uri": "https://localhost:8080/",
          "height": 34
        }
      },
      "source": [
        "lst"
      ],
      "execution_count": 0,
      "outputs": [
        {
          "output_type": "execute_result",
          "data": {
            "text/plain": [
              "['A', 'C', 'A', 'D', 'G', 'I', 'L', 'D']"
            ]
          },
          "metadata": {
            "tags": []
          },
          "execution_count": 11
        }
      ]
    },
    {
      "cell_type": "code",
      "metadata": {
        "id": "ws8CSrMjdxc-",
        "colab_type": "code",
        "colab": {}
      },
      "source": [
        "l = ['x', 'y','z']\n",
        "\n",
        "result = [i*num for i in l for num in range(1,5)]"
      ],
      "execution_count": 0,
      "outputs": []
    },
    {
      "cell_type": "code",
      "metadata": {
        "id": "gov9KHWveR2r",
        "colab_type": "code",
        "outputId": "396a08de-e630-4e54-d7f4-582066cce25f",
        "colab": {
          "base_uri": "https://localhost:8080/",
          "height": 34
        }
      },
      "source": [
        "result"
      ],
      "execution_count": 0,
      "outputs": [
        {
          "output_type": "execute_result",
          "data": {
            "text/plain": [
              "['x', 'xx', 'xxx', 'xxxx', 'y', 'yy', 'yyy', 'yyyy', 'z', 'zz', 'zzz', 'zzzz']"
            ]
          },
          "metadata": {
            "tags": []
          },
          "execution_count": 14
        }
      ]
    },
    {
      "cell_type": "code",
      "metadata": {
        "id": "ZK2wRvRIeZ2D",
        "colab_type": "code",
        "colab": {}
      },
      "source": [
        "l = ['x','y','z']\n",
        "result1 = [i*num for num in range (1,5) for i in l]"
      ],
      "execution_count": 0,
      "outputs": []
    },
    {
      "cell_type": "code",
      "metadata": {
        "id": "eagHMcfteu8V",
        "colab_type": "code",
        "outputId": "8e434a8b-0fdd-4e48-9c90-740cf12e82e4",
        "colab": {
          "base_uri": "https://localhost:8080/",
          "height": 34
        }
      },
      "source": [
        "result1"
      ],
      "execution_count": 0,
      "outputs": [
        {
          "output_type": "execute_result",
          "data": {
            "text/plain": [
              "['x', 'y', 'z', 'xx', 'yy', 'zz', 'xxx', 'yyy', 'zzz', 'xxxx', 'yyyy', 'zzzz']"
            ]
          },
          "metadata": {
            "tags": []
          },
          "execution_count": 18
        }
      ]
    },
    {
      "cell_type": "code",
      "metadata": {
        "id": "aFFLBMpyewCb",
        "colab_type": "code",
        "colab": {}
      },
      "source": [
        "l=[2,3,4]\n",
        "\n",
        "result2 = [[i+num] for i in l for num in range(0,3)]"
      ],
      "execution_count": 0,
      "outputs": []
    },
    {
      "cell_type": "code",
      "metadata": {
        "id": "iEXIgv9KfN7G",
        "colab_type": "code",
        "outputId": "91f47c16-229b-4a14-d0cf-3a417b479b34",
        "colab": {
          "base_uri": "https://localhost:8080/",
          "height": 34
        }
      },
      "source": [
        "result2"
      ],
      "execution_count": 0,
      "outputs": [
        {
          "output_type": "execute_result",
          "data": {
            "text/plain": [
              "[[2], [3], [4], [3], [4], [5], [4], [5], [6]]"
            ]
          },
          "metadata": {
            "tags": []
          },
          "execution_count": 20
        }
      ]
    },
    {
      "cell_type": "code",
      "metadata": {
        "id": "1VQ2J9obfQDF",
        "colab_type": "code",
        "colab": {}
      },
      "source": [
        "l=[2,3,4,5]\n",
        "result3 = [[i+num for i in l] for num in range(0,4)]"
      ],
      "execution_count": 0,
      "outputs": []
    },
    {
      "cell_type": "code",
      "metadata": {
        "id": "PQFo4NXHllVV",
        "colab_type": "code",
        "outputId": "eced8be3-38c1-4e5c-b5e8-9d8b43f565c9",
        "colab": {
          "base_uri": "https://localhost:8080/",
          "height": 34
        }
      },
      "source": [
        "result3"
      ],
      "execution_count": 0,
      "outputs": [
        {
          "output_type": "execute_result",
          "data": {
            "text/plain": [
              "[[2, 3, 4, 5], [3, 4, 5, 6], [4, 5, 6, 7], [5, 6, 7, 8]]"
            ]
          },
          "metadata": {
            "tags": []
          },
          "execution_count": 23
        }
      ]
    },
    {
      "cell_type": "code",
      "metadata": {
        "id": "2sbVnLTtl3RR",
        "colab_type": "code",
        "colab": {}
      },
      "source": [
        "t = (1,2,3)\n",
        "\n",
        "result4 = [(a,b) for a in t for b in t]"
      ],
      "execution_count": 0,
      "outputs": []
    },
    {
      "cell_type": "code",
      "metadata": {
        "id": "N3zpvYBbmR2N",
        "colab_type": "code",
        "outputId": "5cf03153-6f35-457c-dd94-3989ff851650",
        "colab": {
          "base_uri": "https://localhost:8080/",
          "height": 34
        }
      },
      "source": [
        "result4"
      ],
      "execution_count": 0,
      "outputs": [
        {
          "output_type": "execute_result",
          "data": {
            "text/plain": [
              "[(1, 1), (1, 2), (1, 3), (2, 1), (2, 2), (2, 3), (3, 1), (3, 2), (3, 3)]"
            ]
          },
          "metadata": {
            "tags": []
          },
          "execution_count": 25
        }
      ]
    },
    {
      "cell_type": "markdown",
      "metadata": {
        "id": "rrf37GPjmhr3",
        "colab_type": "text"
      },
      "source": [
        "### 3. Implement a function longestWord() that takes a list of words and returns the longest one.Task 2:"
      ]
    },
    {
      "cell_type": "code",
      "metadata": {
        "id": "y6KMLDHgmTz8",
        "colab_type": "code",
        "colab": {}
      },
      "source": [
        "def longestWord(lst):\n",
        "\n",
        "  var = ''\n",
        "  for i in range(0,len(lst)):\n",
        "     if (len(var) < len(lst[i])):\n",
        "       var = lst[i]\n",
        "\n",
        "  return var \n"
      ],
      "execution_count": 0,
      "outputs": []
    },
    {
      "cell_type": "code",
      "metadata": {
        "id": "VrJiNwn6ndVR",
        "colab_type": "code",
        "outputId": "fb8a0cbc-6835-4361-dd44-96482b6a3c79",
        "colab": {
          "base_uri": "https://localhost:8080/",
          "height": 34
        }
      },
      "source": [
        "longestWord(['shgjfg','jdjfgiuefadfjk','sdg','jsfgaufg'])\n"
      ],
      "execution_count": 0,
      "outputs": [
        {
          "output_type": "execute_result",
          "data": {
            "text/plain": [
              "'jdjfgiuefadfjk'"
            ]
          },
          "metadata": {
            "tags": []
          },
          "execution_count": 33
        }
      ]
    },
    {
      "cell_type": "markdown",
      "metadata": {
        "id": "oxFtCHmxoerJ",
        "colab_type": "text"
      },
      "source": [
        "# Task 2:\n",
        "### 1.1 Write a Python Program(with class concepts) to find the area of the triangle using the belowformula.\n",
        "\n",
        "##area = (s*(s-a)*(s-b)*(s-c)) ** 0.5\n",
        "\n",
        "### Function to take the length of the sides of triangle from user should be defined in the parentclass and function to calculate the area should be defined in subclass."
      ]
    },
    {
      "cell_type": "code",
      "metadata": {
        "id": "dGOek0K2ntJl",
        "colab_type": "code",
        "colab": {}
      },
      "source": [
        "class polygon:\n",
        "  def __init__(self,number_of_sides):\n",
        "    self.number_of_sides = number_of_sides"
      ],
      "execution_count": 0,
      "outputs": []
    },
    {
      "cell_type": "code",
      "metadata": {
        "id": "FejNdciMgPXk",
        "colab_type": "code",
        "colab": {}
      },
      "source": [
        "class triangle(polygon):\n",
        "  def __init__(self, lenght_of_sides):\n",
        "    polygon.__init__(self, 3)\n",
        "    self.lenght_of_sides = lenght_of_sides\n",
        "\n",
        "  def get_area(self):\n",
        "    a , b, c = self.lenght_of_sides\n",
        "\n",
        "    s = (a+b+c)/2\n",
        "    return (s*(s-a)*(s-b)*(s-c)) ** 0.5"
      ],
      "execution_count": 0,
      "outputs": []
    },
    {
      "cell_type": "code",
      "metadata": {
        "id": "KXld1pSyhYs9",
        "colab_type": "code",
        "colab": {
          "base_uri": "https://localhost:8080/",
          "height": 34
        },
        "outputId": "ddb511d7-2864-4961-dcfe-f38819ff50ef"
      },
      "source": [
        "t = triangle([6,8,9])\n",
        "print(\"Area of tringle is \",t.get_area())"
      ],
      "execution_count": 20,
      "outputs": [
        {
          "output_type": "stream",
          "text": [
            "Area of tringle is  23.525252389719434\n"
          ],
          "name": "stdout"
        }
      ]
    },
    {
      "cell_type": "markdown",
      "metadata": {
        "id": "AsSyAWo4ovLh",
        "colab_type": "text"
      },
      "source": [
        "### 1.2 Write a function filter_long_words() that takes a list of words and an integer n and returns the listof words that are longer than n."
      ]
    },
    {
      "cell_type": "code",
      "metadata": {
        "id": "Yp0TFJOCe0fK",
        "colab_type": "code",
        "colab": {}
      },
      "source": [
        "def filterlongword(string,number):\n",
        "    return [word for word in string if len(word) > number]"
      ],
      "execution_count": 0,
      "outputs": []
    },
    {
      "cell_type": "code",
      "metadata": {
        "id": "u3Rh2_Eqe0a9",
        "colab_type": "code",
        "colab": {
          "base_uri": "https://localhost:8080/",
          "height": 68
        },
        "outputId": "49e64e74-ef68-42ea-fc2d-01bacf68c14f"
      },
      "source": [
        "words = input(\"Please input the list of words : \").split(\" \")\n",
        "num = int(input(\"Enter an integer : \"))\n",
        "\n",
        "filterlongword(words,num)\n"
      ],
      "execution_count": 7,
      "outputs": [
        {
          "output_type": "stream",
          "text": [
            "Please input the list of words : fdha sfhu effiuacfs iudw8sdiwsd hffiu hd\n",
            "Enter an integer : 4\n"
          ],
          "name": "stdout"
        },
        {
          "output_type": "execute_result",
          "data": {
            "text/plain": [
              "['effiuacfs', 'iudw8sdiwsd', 'hffiu']"
            ]
          },
          "metadata": {
            "tags": []
          },
          "execution_count": 7
        }
      ]
    },
    {
      "cell_type": "markdown",
      "metadata": {
        "id": "_92GBC-qo1eJ",
        "colab_type": "text"
      },
      "source": [
        "### 2.1 Write a Python program using function concept that maps  list of words into a list of integers representing the lengths of the corresponding words​.\n",
        "\n",
        " Hint: ​If a list [ ab,cde,erty] is passed on to the python function output should come as [2,3,4]Here 2,3 and 4 are the lengths of the words in the list."
      ]
    },
    {
      "cell_type": "code",
      "metadata": {
        "id": "PaAyCFlupDZt",
        "colab_type": "code",
        "colab": {}
      },
      "source": [
        "def map_list_of_words(lst):\n",
        "\n",
        "  m = []\n",
        "  for i in range(len(lst)):\n",
        "    m.append(len(lst[i]))\n",
        "  return m  "
      ],
      "execution_count": 0,
      "outputs": []
    },
    {
      "cell_type": "code",
      "metadata": {
        "id": "6TV8AJZcjsLw",
        "colab_type": "code",
        "colab": {
          "base_uri": "https://localhost:8080/",
          "height": 34
        },
        "outputId": "b9cd6a3a-0df3-4792-e480-50f462c0d27e"
      },
      "source": [
        "print(\"lengths of the words\",map_list_of_words(['ab','cde','erty']))"
      ],
      "execution_count": 28,
      "outputs": [
        {
          "output_type": "stream",
          "text": [
            "lengths of the words [2, 3, 4]\n"
          ],
          "name": "stdout"
        }
      ]
    },
    {
      "cell_type": "markdown",
      "metadata": {
        "id": "ZD7gnEz3pKOQ",
        "colab_type": "text"
      },
      "source": [
        "### 2.2 Write a Python function which takes a character (i.e. a string of length 1) and returns True if it isa vowel, False otherwise."
      ]
    },
    {
      "cell_type": "code",
      "metadata": {
        "id": "eQ9lQbykpSQA",
        "colab_type": "code",
        "colab": {}
      },
      "source": [
        "def is_vowels(char):\n",
        "  c = 'aeiou'\n",
        "  return char in c\n",
        "    "
      ],
      "execution_count": 0,
      "outputs": []
    },
    {
      "cell_type": "code",
      "metadata": {
        "id": "N9WOlCKdptP4",
        "colab_type": "code",
        "outputId": "445d31f4-6ee2-4e58-9e24-c0b33da641e8",
        "colab": {
          "base_uri": "https://localhost:8080/",
          "height": 34
        }
      },
      "source": [
        "is_vowels('e')"
      ],
      "execution_count": 0,
      "outputs": [
        {
          "output_type": "execute_result",
          "data": {
            "text/plain": [
              "True"
            ]
          },
          "metadata": {
            "tags": []
          },
          "execution_count": 46
        }
      ]
    },
    {
      "cell_type": "code",
      "metadata": {
        "id": "9SDsmIpSpw09",
        "colab_type": "code",
        "outputId": "abeeb34a-6152-412b-e35a-d10f40f4fd10",
        "colab": {
          "base_uri": "https://localhost:8080/",
          "height": 34
        }
      },
      "source": [
        "is_vowels('t')"
      ],
      "execution_count": 0,
      "outputs": [
        {
          "output_type": "execute_result",
          "data": {
            "text/plain": [
              "False"
            ]
          },
          "metadata": {
            "tags": []
          },
          "execution_count": 47
        }
      ]
    },
    {
      "cell_type": "code",
      "metadata": {
        "id": "8bEHQrtcpz-1",
        "colab_type": "code",
        "colab": {}
      },
      "source": [
        ""
      ],
      "execution_count": 0,
      "outputs": []
    }
  ]
}